{
 "metadata": {
  "name": "",
  "signature": "sha256:61fb7136dcaf6eaf8089f6e4bd114431341a564bf8bc77d3a6b9048702615378"
 },
 "nbformat": 3,
 "nbformat_minor": 0,
 "worksheets": [
  {
   "cells": [
    {
     "cell_type": "heading",
     "level": 1,
     "metadata": {},
     "source": [
      "Clustering of news articles: Algorithm analysis and comparison"
     ]
    },
    {
     "cell_type": "markdown",
     "metadata": {},
     "source": [
      "The goal of the present notebook is to analyse and compare different algorithms to solve the problem of clustering news articles into groups discussing the same event and, on a second stage, grouping event into second level clusters related to common story.\n"
     ]
    },
    {
     "cell_type": "heading",
     "level": 2,
     "metadata": {},
     "source": [
      "IHAC vs. HAC"
     ]
    },
    {
     "cell_type": "markdown",
     "metadata": {},
     "source": [
      "On this first section we will introduce the first of our alternative clustering algorithms, Incremental Hierarchichal Agglomerative Clustering (IHAC), and compare it to its classical, non-incremental version."
     ]
    },
    {
     "cell_type": "heading",
     "level": 3,
     "metadata": {},
     "source": [
      "Test case 1: 2 flat 1-dimensional clusters"
     ]
    },
    {
     "cell_type": "markdown",
     "metadata": {},
     "source": [
      "We will start off with a simple dataset consisting of two 1-dimensional clusters:"
     ]
    },
    {
     "cell_type": "code",
     "collapsed": false,
     "input": [
      "import numpy as np\n",
      "cluster_a = np.arange(0,1,0.1)\n",
      "cluster_b = np.arange(2,3,0.1)\n",
      "\n",
      "print(\"Created clusters:\\n\")\n",
      "print(\"A: \")\n",
      "print(cluster_a)\n",
      "print(\"\\nB: \")\n",
      "print(cluster_b)"
     ],
     "language": "python",
     "metadata": {},
     "outputs": [
      {
       "output_type": "stream",
       "stream": "stdout",
       "text": [
        "Created clusters:\n",
        "\n",
        "A: \n",
        "[ 0.   0.1  0.2  0.3  0.4  0.5  0.6  0.7  0.8  0.9]\n",
        "\n",
        "B: \n",
        "[ 2.   2.1  2.2  2.3  2.4  2.5  2.6  2.7  2.8  2.9]\n"
       ]
      }
     ],
     "prompt_number": 1
    },
    {
     "cell_type": "markdown",
     "metadata": {},
     "source": [
      "Now we combine all the points in a single dataset and shuffle them:"
     ]
    },
    {
     "cell_type": "code",
     "collapsed": false,
     "input": [
      "points = np.append(cluster_a, cluster_b)\n",
      "np.random.shuffle(points)\n",
      "points = [np.array([p]) for p in points]"
     ],
     "language": "python",
     "metadata": {},
     "outputs": [],
     "prompt_number": 2
    },
    {
     "cell_type": "markdown",
     "metadata": {},
     "source": [
      "we can run classical HAC on this dataset and visualize the results"
     ]
    },
    {
     "cell_type": "code",
     "collapsed": false,
     "input": [],
     "language": "python",
     "metadata": {},
     "outputs": []
    },
    {
     "cell_type": "markdown",
     "metadata": {},
     "source": [
      "We now do the same using IHAC"
     ]
    },
    {
     "cell_type": "code",
     "collapsed": false,
     "input": [
      "%matplotlib inline \n",
      "# this is needed for figures to be plotted within the current notebook\n",
      "from ihacluster import IHAClusterer\n",
      "clusterer = IHAClusterer(points)\n",
      "clusterer.cluster()\n",
      "hi = clusterer.hierarchy\n",
      "\n",
      "hi.visualize()"
     ],
     "language": "python",
     "metadata": {},
     "outputs": [
      {
       "output_type": "stream",
       "stream": "stdout",
       "text": [
        "initializing with array([ 2.5]) and array([ 0.5])\n",
        "processing array([ 0.6])\n",
        "host search finished\n",
        "host found\n",
        "OK\n",
        "processing array([ 0.])\n",
        "host search finished\n",
        "host found\n",
        "OK\n",
        "processing array([ 2.6])\n",
        "host search finished\n",
        "host found\n",
        "OK\n",
        "processing array([ 2.9])\n",
        "host search finished\n",
        "host found\n",
        "OK\n",
        "processing array([ 0.7])\n",
        "host search finished\n",
        "host found\n",
        "OK\n",
        "processing array([ 2.3])\n",
        "host search finished\n",
        "host found\n",
        "OK\n",
        "processing array([ 0.2])\n",
        "host search finished\n",
        "host found\n",
        "OK\n",
        "processing array([ 2.8])\n",
        "host search finished\n",
        "host found\n",
        "OK\n",
        "processing array([ 2.1])\n",
        "host search finished\n",
        "host found\n",
        "OK"
       ]
      },
      {
       "output_type": "stream",
       "stream": "stdout",
       "text": [
        "\n",
        "processing array([ 2.7])\n",
        "host search finished\n",
        "host found\n",
        "OK\n",
        "processing array([ 2.])\n",
        "host search finished\n",
        "host found\n",
        "OK\n",
        "processing array([ 0.3])\n",
        "host search finished\n",
        "host found\n",
        "OK\n",
        "processing array([ 2.4])\n",
        "host search finished\n",
        "host found\n",
        "OK\n",
        "processing array([ 2.2])\n",
        "host search finished"
       ]
      },
      {
       "output_type": "stream",
       "stream": "stdout",
       "text": [
        "\n",
        "host found\n",
        "OK\n",
        "processing array([ 0.4])\n",
        "host search finished\n",
        "host found\n",
        "OK\n",
        "processing array([ 0.9])\n",
        "host search finished\n",
        "host found\n",
        "OK\n",
        "processing array([ 0.1])\n",
        "host search finished\n",
        "host found\n",
        "OK\n",
        "processing array([ 0.8])\n",
        "host search finished"
       ]
      },
      {
       "output_type": "stream",
       "stream": "stdout",
       "text": [
        "\n",
        "host found\n",
        "OK\n"
       ]
      },
      {
       "metadata": {},
       "output_type": "display_data",
       "png": "[encoded data removed]",
       "text": [
        "<matplotlib.figure.Figure at 0xafd9cfcc>"
       ]
      }
     ],
     "prompt_number": 4
    },
    {
     "cell_type": "markdown",
     "metadata": {},
     "source": [
      "Let's re-shuffle the points now and see how sensitive each algorithm is to input ordering:"
     ]
    },
    {
     "cell_type": "code",
     "collapsed": false,
     "input": [
      "np.random.shuffle(points)\n",
      "points"
     ],
     "language": "python",
     "metadata": {},
     "outputs": [
      {
       "metadata": {},
       "output_type": "pyout",
       "prompt_number": 7,
       "text": [
        "[array([ 0.3]),\n",
        " array([ 0.6]),\n",
        " array([ 2.6]),\n",
        " array([ 2.9]),\n",
        " array([ 0.9]),\n",
        " array([ 0.2]),\n",
        " array([ 0.7]),\n",
        " array([ 0.4]),\n",
        " array([ 2.5]),\n",
        " array([ 0.8]),\n",
        " array([ 0.]),\n",
        " array([ 2.7]),\n",
        " array([ 2.4]),\n",
        " array([ 2.8]),\n",
        " array([ 0.1]),\n",
        " array([ 2.]),\n",
        " array([ 2.1]),\n",
        " array([ 2.3]),\n",
        " array([ 2.2]),\n",
        " array([ 0.5])]"
       ]
      }
     ],
     "prompt_number": 7
    },
    {
     "cell_type": "code",
     "collapsed": false,
     "input": [
      "clusterer = IHAClusterer(points)\n",
      "clusterer.cluster()\n",
      "hi = clusterer.hierarchy\n",
      "\n",
      "hi.visualize()"
     ],
     "language": "python",
     "metadata": {},
     "outputs": []
    },
    {
     "cell_type": "heading",
     "level": 3,
     "metadata": {},
     "source": [
      "Test case 2: 4 \"nested\" 1-dimensional clusters"
     ]
    },
    {
     "cell_type": "markdown",
     "metadata": {},
     "source": [
      "Now let's take a look at what happens with a dataset with more hierarchichal structure:"
     ]
    },
    {
     "cell_type": "code",
     "collapsed": false,
     "input": [
      "cluster_a1 = np.arange(0,0.4,0.01)\n",
      "cluster_a2 = np.arange(0.6,1,0.01)\n",
      "cluster_b1 = np.arange(2,2.4,0.01)\n",
      "cluster_b2 = np.arange(2.6,3,0.01)\n",
      "\n",
      "print(\"Created clusters:\\n\")\n",
      "print(\"A1: \")\n",
      "print(cluster_a1)\n",
      "print(\"\\nA2: \")\n",
      "print(cluster_a2)\n",
      "print(\"\\nB1: \")\n",
      "print(cluster_b1)\n",
      "print(\"\\nB2: \")\n",
      "print(cluster_b2)\n",
      "\n",
      "\n",
      "points = np.append(cluster_a1, cluster_a2)\n",
      "points = np.append(points, cluster_b1)\n",
      "points = np.append(points, cluster_b2)\n",
      "np.random.shuffle(points)\n",
      "points = [np.array([p]) for p in points]\n"
     ],
     "language": "python",
     "metadata": {},
     "outputs": [
      {
       "output_type": "stream",
       "stream": "stdout",
       "text": [
        "Created clusters:\n",
        "\n",
        "A1: \n",
        "[ 0.    0.01  0.02  0.03  0.04  0.05  0.06  0.07  0.08  0.09  0.1   0.11\n",
        "  0.12  0.13  0.14  0.15  0.16  0.17  0.18  0.19  0.2   0.21  0.22  0.23\n",
        "  0.24  0.25  0.26  0.27  0.28  0.29  0.3   0.31  0.32  0.33  0.34  0.35\n",
        "  0.36  0.37  0.38  0.39]\n",
        "\n",
        "A2: \n",
        "[ 0.6   0.61  0.62  0.63  0.64  0.65  0.66  0.67  0.68  0.69  0.7   0.71\n",
        "  0.72  0.73  0.74  0.75  0.76  0.77  0.78  0.79  0.8   0.81  0.82  0.83\n",
        "  0.84  0.85  0.86  0.87  0.88  0.89  0.9   0.91  0.92  0.93  0.94  0.95\n",
        "  0.96  0.97  0.98  0.99]\n",
        "\n",
        "B1: \n",
        "[ 2.    2.01  2.02  2.03  2.04  2.05  2.06  2.07  2.08  2.09  2.1   2.11\n",
        "  2.12  2.13  2.14  2.15  2.16  2.17  2.18  2.19  2.2   2.21  2.22  2.23\n",
        "  2.24  2.25  2.26  2.27  2.28  2.29  2.3   2.31  2.32  2.33  2.34  2.35\n",
        "  2.36  2.37  2.38  2.39]\n",
        "\n",
        "B2: \n",
        "[ 2.6   2.61  2.62  2.63  2.64  2.65  2.66  2.67  2.68  2.69  2.7   2.71\n",
        "  2.72  2.73  2.74  2.75  2.76  2.77  2.78  2.79  2.8   2.81  2.82  2.83\n",
        "  2.84  2.85  2.86  2.87  2.88  2.89  2.9   2.91  2.92  2.93  2.94  2.95\n",
        "  2.96  2.97  2.98  2.99]\n"
       ]
      }
     ],
     "prompt_number": 11
    },
    {
     "cell_type": "code",
     "collapsed": false,
     "input": [],
     "language": "python",
     "metadata": {},
     "outputs": []
    },
    {
     "cell_type": "heading",
     "level": 3,
     "metadata": {},
     "source": [
      "Test case 3: clustering articles"
     ]
    },
    {
     "cell_type": "markdown",
     "metadata": {},
     "source": [
      "We now move forward to a comparison with more real data: let's create a dataset of vectorized news articles and apply both HAC and IHAC to them:"
     ]
    },
    {
     "cell_type": "code",
     "collapsed": false,
     "input": [],
     "language": "python",
     "metadata": {},
     "outputs": []
    },
    {
     "cell_type": "heading",
     "level": 2,
     "metadata": {},
     "source": [
      "Text-CLASSIT"
     ]
    },
    {
     "cell_type": "markdown",
     "metadata": {},
     "source": [
      "We analyze now a variant of the CLASSIT algorithm for incremental hierarchical clustering, tuned to use probability distributions that are more suited for modelling text-related distributions."
     ]
    },
    {
     "cell_type": "heading",
     "level": 2,
     "metadata": {},
     "source": [
      "DIGBC: Document Index Graph based Clustering"
     ]
    }
   ],
   "metadata": {}
  }
 ]
}