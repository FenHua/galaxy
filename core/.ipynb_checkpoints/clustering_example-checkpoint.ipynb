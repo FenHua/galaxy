{
 "metadata": {
  "name": "",
  "signature": "sha256:bba8f57c54aea222cfc93b598359cf910c8a3aebd45c9a5a4f9489d6a6f8b946"
 },
 "nbformat": 3,
 "nbformat_minor": 0,
 "worksheets": [
  {
   "cells": [
    {
     "cell_type": "heading",
     "level": 1,
     "metadata": {},
     "source": [
      "Clustering of news articles: Algorithm analysis and comparison"
     ]
    },
    {
     "cell_type": "markdown",
     "metadata": {},
     "source": [
      "The goal of the present notebook is to analyse and compare different algorithms to solve the problem of clustering news articles into groups discussing the same event and, on a second stage, grouping event into second level clusters related to common story.\n"
     ]
    },
    {
     "cell_type": "heading",
     "level": 2,
     "metadata": {},
     "source": [
      "IHAC vs. HAC"
     ]
    },
    {
     "cell_type": "markdown",
     "metadata": {},
     "source": [
      "On this first section we will introduce the first of our alternative clustering algorithms, Incremental Hierarchichal Agglomerative Clustering (IHAC), and compare it to its classical, non-incremental version.\n",
      "\n",
      "We will start off with a simple dataset consisting of two 1-dimensional clusters:"
     ]
    },
    {
     "cell_type": "code",
     "collapsed": false,
     "input": [
      "import numpy as np\n",
      "cluster_a = np.arange(0,1,0.1)\n",
      "cluster_b = np.arange(2,3,0.1)\n",
      "print(\"Created clusters:\\n\")\n",
      "print(\"A: \")\n",
      "print(cluster_a)\n",
      "print(\"\\nB: \")\n",
      "print(cluster_b)"
     ],
     "language": "python",
     "metadata": {},
     "outputs": [],
     "prompt_number": 6
    },
    {
     "cell_type": "markdown",
     "metadata": {},
     "source": [
      "Now we combine all the points in a single dataset and shuffle them:"
     ]
    },
    {
     "cell_type": "code",
     "collapsed": false,
     "input": [
      "points = np.append(cluster_a, cluster_b)\n",
      "np.random.shuffle(points)\n",
      "points = [np.array([p]) for p in points]"
     ],
     "language": "python",
     "metadata": {},
     "outputs": [],
     "prompt_number": 14
    },
    {
     "cell_type": "code",
     "collapsed": false,
     "input": [],
     "language": "python",
     "metadata": {},
     "outputs": []
    },
    {
     "cell_type": "markdown",
     "metadata": {},
     "source": []
    },
    {
     "cell_type": "code",
     "collapsed": false,
     "input": [],
     "language": "python",
     "metadata": {},
     "outputs": []
    }
   ],
   "metadata": {}
  }
 ]
}